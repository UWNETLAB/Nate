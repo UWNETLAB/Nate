{
 "cells": [
  {
   "cell_type": "code",
   "execution_count": 2,
   "metadata": {},
   "outputs": [],
   "source": [
    "import pandas as pd\n",
    "from joblib import Parallel, delayed, cpu_count\n",
    "from functools import partial\n",
    "import spacy\n",
    "from spacy.util import minibatch\n",
    "from spacy.pipeline import merge_entities\n",
    "import itertools\n"
   ]
  },
  {
   "cell_type": "code",
   "execution_count": 3,
   "metadata": {},
   "outputs": [],
   "source": [
    "def main():\n",
    "    if cpu_count() >= 8:   #to avoid overtaxing Brad, save some cores\n",
    "        cpu = 10\n",
    "    else:\n",
    "        cpu = cpu_count()\n",
    "    proc    \n",
    "    df = pd.read_csv('../data/sl2.csv')\n",
    "    texts = df.content.tolist()\n",
    "    nlp = spacy.load('en_core_web_sm')  # load spaCy model\n",
    "    nlp.add_pipe(merge_entities)\n",
    "    batch_size = round(len(texts)/cpu)\n",
    "    partitions = minibatch(texts, size=batch_size)\n",
    "    executor = Parallel(n_jobs=cpu, backend=\"multiprocessing\", prefer=\"processes\")\n",
    "    do = delayed(partial(spacy_process, nlp))\n",
    "    tasks = (do(batch) for batch in partitions)\n",
    "    results = executor(tasks)\n",
    "    results = list(itertools.chain(*temp))\n",
    "    print(len(results))"
   ]
  },
  {
   "cell_type": "code",
   "execution_count": 4,
   "metadata": {},
   "outputs": [],
   "source": [
    "def spacy_process(nlp, texts):\n",
    "    processed_list = [doc for doc in nlp.pipe(texts)]\n",
    "    return processed_list"
   ]
  },
  {
   "cell_type": "code",
   "execution_count": null,
   "metadata": {},
   "outputs": [],
   "source": [
    "if __name__ == \"__main__\":\n",
    "    main()"
   ]
  },
  {
   "cell_type": "code",
   "execution_count": null,
   "metadata": {},
   "outputs": [],
   "source": []
  }
 ],
 "metadata": {
  "kernelspec": {
   "display_name": "Python 3",
   "language": "python",
   "name": "python3"
  },
  "language_info": {
   "codemirror_mode": {
    "name": "ipython",
    "version": 3
   },
   "file_extension": ".py",
   "mimetype": "text/x-python",
   "name": "python",
   "nbconvert_exporter": "python",
   "pygments_lexer": "ipython3",
   "version": "3.7.4"
  }
 },
 "nbformat": 4,
 "nbformat_minor": 4
}
